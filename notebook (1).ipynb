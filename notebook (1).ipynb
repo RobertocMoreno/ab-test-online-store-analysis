{
 "cells": [
  {
   "cell_type": "markdown",
   "metadata": {},
   "source": [
    "# Hola &#x1F600;,\n",
    "\n",
    "Soy **Hesus Garcia** – **\"Soy el único Hesus que conoces (y probablemente conocerás) 🌟\"** – Sí, como \"Jesús\", pero con una H que me hace único. Puede sonar raro, pero créeme, ¡no lo olvidarás! Como tu revisor en Triple-Ten, estoy aquí para guiarte y ayudarte a mejorar tu código. Si algo necesita un ajuste, no hay de qué preocuparse; ¡aquí estoy para hacer que tu trabajo brille con todo su potencial! ✨\n",
    "\n",
    "Cada vez que encuentre un detalle importante en tu código, te lo señalaré para que puedas corregirlo y así te prepares para un ambiente de trabajo real, donde el líder de tu equipo actuaría de manera similar. Si en algún momento no logras solucionar el problema, te daré más detalles para ayudarte en nuestra próxima oportunidad de revisión.\n",
    "\n",
    "Es importante que cuando encuentres un comentario, **no los muevas, no los modifiques, ni los borres**.\n",
    "\n",
    "---\n",
    "\n",
    "### Formato de Comentarios\n",
    "\n",
    "Revisaré cuidadosamente cada implementación en tu notebook para asegurar que cumpla con los requisitos y te daré comentarios de acuerdo al siguiente formato:\n",
    "\n",
    "\n",
    "<div class=\"alert alert-block alert-success\">\n",
    "<b>Comentario del revisor</b> <a class=\"tocSkip\"></a><br>\n",
    "    \n",
    "<b>Éxito</b> - ¡Excelente trabajo! Esta parte está bien implementada y contribuye significativamente al análisis de datos o al proyecto. Continúa aplicando estas buenas prácticas en futuras secciones.\n",
    "    \n",
    "</div>\n",
    "\n",
    "<div class=\"alert alert-block alert-warning\">\n",
    "<b>Comentario del revisor</b> <a class=\"tocSkip\"></a><br>\n",
    "    \n",
    "<b>Atención</b> ⚠️ - Este código está correcto, pero se puede optimizar. Considera implementar mejoras para que sea más eficiente y fácil de leer. Esto fortalecerá la calidad de tu proyecto.\n",
    "    \n",
    "</div>\n",
    "\n",
    "<div class=\"alert alert-block alert-danger\">\n",
    "<b>Comentario del revisor</b> <a class=\"tocSkip\"></a><br>\n",
    "    \n",
    "<b>A resolver</b> ❗ - Aquí hay un problema o error en el código que es necesario corregir para aprobar esta sección. Por favor, revisa y corrige este punto, ya que es fundamental para la validez del análisis y la precisión de los resultados.\n",
    "    \n",
    "</div>\n",
    "\n",
    "---\n",
    "\n",
    "Al final de cada revisión, recibirás un **Comentario General del Revisor** que incluirá:\n",
    "\n",
    "- **Aspectos positivos:** Un resumen de los puntos fuertes de tu proyecto.\n",
    "- **Áreas de mejora:** Sugerencias sobre aspectos donde puedes mejorar.\n",
    "- **Temas adicionales para investigar:** Ideas de temas opcionales que puedes explorar por tu cuenta para desarrollar aún más tus habilidades.\n",
    "\n",
    "Estos temas adicionales no son obligatorios en esta etapa, pero pueden serte útiles para profundizar en el futuro.\n",
    "\n",
    "---\n",
    "\n",
    "\n",
    "Esta estructura en viñetas facilita la lectura y comprensión de cada parte del comentario final.\n",
    "\n",
    "También puedes responderme de la siguiente manera si tienes alguna duda o quieres aclarar algo específico:\n",
    "\n",
    "\n",
    "<div class=\"alert alert-block alert-info\">\n",
    "<b>Respuesta del estudiante</b> <a class=\"tocSkip\"></a>\n",
    "    \n",
    "Aquí puedes escribir tu respuesta o pregunta sobre el comentario.\n",
    "    \n",
    "</div>\n",
    "\n",
    "\n",
    "**¡Empecemos!** &#x1F680;\n"
   ]
  },
  {
   "cell_type": "markdown",
   "metadata": {},
   "source": [
    "# Análisis del Comportamiento de Usuario y Test A/A/B en App de Productos Alimenticios\n",
    "## Evaluamos el embudo de ventas y el impacto del nuevo diseño en las conversiones de usuario."
   ]
  },
  {
   "cell_type": "code",
   "execution_count": 1,
   "metadata": {},
   "outputs": [],
   "source": [
    "# Cargamos las librerias necesarias\n",
    "import pandas as pd\n",
    "from datetime import date\n",
    "import matplotlib.pyplot as plt\n",
    "from scipy import stats as st\n",
    "import numpy as np\n",
    "import math as mth"
   ]
  },
  {
   "cell_type": "markdown",
   "metadata": {},
   "source": [
    "### Paso 1. Abrir el archivo de datos y leer la información general"
   ]
  },
  {
   "cell_type": "code",
   "execution_count": 2,
   "metadata": {},
   "outputs": [
    {
     "name": "stdout",
     "output_type": "stream",
     "text": [
      "                 EventName         DeviceIDHash  EventTimestamp  ExpId\n",
      "0         MainScreenAppear  4575588528974610257      1564029816    246\n",
      "1         MainScreenAppear  7416695313311560658      1564053102    246\n",
      "2  PaymentScreenSuccessful  3518123091307005509      1564054127    248\n",
      "3         CartScreenAppear  3518123091307005509      1564054127    248\n",
      "4  PaymentScreenSuccessful  6217807653094995999      1564055322    248\n"
     ]
    }
   ],
   "source": [
    "# Cargamos los datos y los convertimos a un df\n",
    "df_logs = pd.read_csv('/datasets/logs_exp_us.csv', sep='\\t')\n",
    "print(df_logs.head(5))"
   ]
  },
  {
   "cell_type": "markdown",
   "metadata": {},
   "source": [
    "<div class=\"alert alert-block alert-success\">  \n",
    "<b>Comentario del revisor</b> <a class=\"tocSkip\"></a><br>  \n",
    "<b>Éxito</b> - ¡Muy bien iniciado el proyecto! La carga de librerías y la lectura del archivo están correctamente implementadas. Esta base te permitirá trabajar con confianza en las siguientes etapas del análisis.  \n",
    "</div>\n"
   ]
  },
  {
   "cell_type": "markdown",
   "metadata": {},
   "source": [
    "### Paso 2. Preparar los datos para el análisis"
   ]
  },
  {
   "cell_type": "code",
   "execution_count": 3,
   "metadata": {},
   "outputs": [
    {
     "name": "stdout",
     "output_type": "stream",
     "text": [
      "<class 'pandas.core.frame.DataFrame'>\n",
      "RangeIndex: 244126 entries, 0 to 244125\n",
      "Data columns (total 4 columns):\n",
      " #   Column           Non-Null Count   Dtype \n",
      "---  ------           --------------   ----- \n",
      " 0   event_name       244126 non-null  object\n",
      " 1   device_id        244126 non-null  int64 \n",
      " 2   event_timestamp  244126 non-null  int64 \n",
      " 3   exp_id           244126 non-null  int64 \n",
      "dtypes: int64(3), object(1)\n",
      "memory usage: 7.5+ MB\n",
      "event_name         0\n",
      "device_id          0\n",
      "event_timestamp    0\n",
      "exp_id             0\n",
      "dtype: int64\n"
     ]
    }
   ],
   "source": [
    "# Renombramos el nombre de las columnas\n",
    "df_logs.columns = ['event_name', 'device_id', 'event_timestamp', 'exp_id']\n",
    "\n",
    "# Comprobamos el tipo de datos y los valores ausentes\n",
    "df_logs.info()\n",
    "missing_values = df_logs.isnull().sum()\n",
    "print(missing_values)"
   ]
  },
  {
   "cell_type": "code",
   "execution_count": 4,
   "metadata": {},
   "outputs": [
    {
     "data": {
      "text/html": [
       "<div>\n",
       "<style scoped>\n",
       "    .dataframe tbody tr th:only-of-type {\n",
       "        vertical-align: middle;\n",
       "    }\n",
       "\n",
       "    .dataframe tbody tr th {\n",
       "        vertical-align: top;\n",
       "    }\n",
       "\n",
       "    .dataframe thead th {\n",
       "        text-align: right;\n",
       "    }\n",
       "</style>\n",
       "<table border=\"1\" class=\"dataframe\">\n",
       "  <thead>\n",
       "    <tr style=\"text-align: right;\">\n",
       "      <th></th>\n",
       "      <th>event_name</th>\n",
       "      <th>device_id</th>\n",
       "      <th>event_timestamp</th>\n",
       "      <th>exp_id</th>\n",
       "      <th>event_datetime</th>\n",
       "      <th>event_date</th>\n",
       "    </tr>\n",
       "  </thead>\n",
       "  <tbody>\n",
       "    <tr>\n",
       "      <th>0</th>\n",
       "      <td>MainScreenAppear</td>\n",
       "      <td>4575588528974610257</td>\n",
       "      <td>1564029816</td>\n",
       "      <td>246</td>\n",
       "      <td>2019-07-25 04:43:36</td>\n",
       "      <td>2019-07-25</td>\n",
       "    </tr>\n",
       "    <tr>\n",
       "      <th>1</th>\n",
       "      <td>MainScreenAppear</td>\n",
       "      <td>7416695313311560658</td>\n",
       "      <td>1564053102</td>\n",
       "      <td>246</td>\n",
       "      <td>2019-07-25 11:11:42</td>\n",
       "      <td>2019-07-25</td>\n",
       "    </tr>\n",
       "    <tr>\n",
       "      <th>2</th>\n",
       "      <td>PaymentScreenSuccessful</td>\n",
       "      <td>3518123091307005509</td>\n",
       "      <td>1564054127</td>\n",
       "      <td>248</td>\n",
       "      <td>2019-07-25 11:28:47</td>\n",
       "      <td>2019-07-25</td>\n",
       "    </tr>\n",
       "    <tr>\n",
       "      <th>3</th>\n",
       "      <td>CartScreenAppear</td>\n",
       "      <td>3518123091307005509</td>\n",
       "      <td>1564054127</td>\n",
       "      <td>248</td>\n",
       "      <td>2019-07-25 11:28:47</td>\n",
       "      <td>2019-07-25</td>\n",
       "    </tr>\n",
       "    <tr>\n",
       "      <th>4</th>\n",
       "      <td>PaymentScreenSuccessful</td>\n",
       "      <td>6217807653094995999</td>\n",
       "      <td>1564055322</td>\n",
       "      <td>248</td>\n",
       "      <td>2019-07-25 11:48:42</td>\n",
       "      <td>2019-07-25</td>\n",
       "    </tr>\n",
       "  </tbody>\n",
       "</table>\n",
       "</div>"
      ],
      "text/plain": [
       "                event_name            device_id  event_timestamp  exp_id  \\\n",
       "0         MainScreenAppear  4575588528974610257       1564029816     246   \n",
       "1         MainScreenAppear  7416695313311560658       1564053102     246   \n",
       "2  PaymentScreenSuccessful  3518123091307005509       1564054127     248   \n",
       "3         CartScreenAppear  3518123091307005509       1564054127     248   \n",
       "4  PaymentScreenSuccessful  6217807653094995999       1564055322     248   \n",
       "\n",
       "       event_datetime  event_date  \n",
       "0 2019-07-25 04:43:36  2019-07-25  \n",
       "1 2019-07-25 11:11:42  2019-07-25  \n",
       "2 2019-07-25 11:28:47  2019-07-25  \n",
       "3 2019-07-25 11:28:47  2019-07-25  \n",
       "4 2019-07-25 11:48:42  2019-07-25  "
      ]
     },
     "execution_count": 4,
     "metadata": {},
     "output_type": "execute_result"
    }
   ],
   "source": [
    "# Convertimos el timestamp a formato datetime y creamos la columna\n",
    "df_logs['event_datetime'] = pd.to_datetime(df_logs['event_timestamp'], unit='s')\n",
    "\n",
    "# Creamos una columna separada por la fecha\n",
    "df_logs['event_date'] = df_logs['event_datetime'].dt.date\n",
    "\n",
    "df_logs.head()"
   ]
  },
  {
   "cell_type": "markdown",
   "metadata": {},
   "source": [
    "<div class=\"alert alert-block alert-success\">  \n",
    "<b>Comentario del revisor</b> <a class=\"tocSkip\"></a><br>  \n",
    "<b>Éxito</b> - ¡Buen trabajo en la preparación de los datos! Renombraste las columnas con claridad, verificaste la integridad del dataset y transformaste correctamente las marcas de tiempo. Esto establece una base sólida para los análisis posteriores.  \n",
    "</div>\n"
   ]
  },
  {
   "cell_type": "markdown",
   "metadata": {},
   "source": [
    "### Paso 3. Estudiar y comprobar los datos"
   ]
  },
  {
   "cell_type": "code",
   "execution_count": 5,
   "metadata": {},
   "outputs": [
    {
     "name": "stdout",
     "output_type": "stream",
     "text": [
      "cantidad total de eventos: 244126\n",
      "cantidad total de usuarios: 7551\n",
      "promedio de eventos por usuario 32.33\n"
     ]
    }
   ],
   "source": [
    "# ¿Cuántos eventos hay en los registros?\n",
    "total_events = len(df_logs)\n",
    "\n",
    "# ¿Cuántos usuarios hay en los registros?\n",
    "unique_users = df_logs['device_id'].nunique()\n",
    "\n",
    "# ¿Cuál es el promedio de eventos por usuario?\n",
    "avg_events_per_user = round(total_events / unique_users, 2)\n",
    "\n",
    "print('cantidad total de eventos:', total_events)\n",
    "print('cantidad total de usuarios:', unique_users)\n",
    "print('promedio de eventos por usuario', avg_events_per_user)"
   ]
  },
  {
   "cell_type": "code",
   "execution_count": 6,
   "metadata": {},
   "outputs": [
    {
     "name": "stdout",
     "output_type": "stream",
     "text": [
      "fecha minima: 2019-07-25 04:43:36\n",
      "fecha máxima: 2019-08-07 21:15:17\n"
     ]
    },
    {
     "data": {
      "image/png": "[encoded data removed]",
      "text/plain": [
       "<Figure size 1200x500 with 1 Axes>"
      ]
     },
     "metadata": {},
     "output_type": "display_data"
    },
    {
     "name": "stdout",
     "output_type": "stream",
     "text": [
      "2019-07-25        9\n",
      "2019-07-26       31\n",
      "2019-07-27       55\n",
      "2019-07-28      105\n",
      "2019-07-29      184\n",
      "2019-07-30      413\n",
      "2019-07-31     2031\n",
      "2019-08-01    36229\n",
      "2019-08-02    35606\n",
      "2019-08-03    33351\n",
      "2019-08-04    33033\n",
      "2019-08-05    36113\n",
      "2019-08-06    35822\n",
      "2019-08-07    31144\n",
      "Name: event_date, dtype: int64\n"
     ]
    }
   ],
   "source": [
    "# Qué periodo de tiempo cubren los datos\n",
    "# Buscamos las fechas mínima y máxima\n",
    "min_date = df_logs['event_datetime'].min()\n",
    "max_date = df_logs['event_datetime'].max()\n",
    "print('fecha minima:', min_date)\n",
    "print('fecha máxima:', max_date)\n",
    "\n",
    "# Trazamos un histograma por fecha y hora\n",
    "events_per_day = df_logs['event_date'].value_counts().sort_index()\n",
    "plt.figure(figsize=(12,5))\n",
    "events_per_day.plot(kind='bar')\n",
    "plt.title('Cantidad de eventos por fecha')\n",
    "plt.xlabel('Fecha')\n",
    "plt.ylabel('Cantidad de eventos')\n",
    "plt.xticks(rotation=45)\n",
    "plt.show()\n",
    "\n",
    "print(events_per_day)"
   ]
  },
  {
   "cell_type": "markdown",
   "metadata": {},
   "source": [
    "Como se puede observar del 25 al 30 de julio se tienen muy pocos eventos (menos de 500 al día), lo cual puede sugerir que los datos no se encuentren completos.\n",
    "\n",
    "A partir del 31 de julio, los eventos aumentan de manera significativa y se estabilizan en alrededor de 30,000 por día. Por lo tanto vamos a considerar como periodo real de análisis del 31 de julio al 7 de agosto de 2019."
   ]
  },
  {
   "cell_type": "code",
   "execution_count": 7,
   "metadata": {},
   "outputs": [
    {
     "name": "stdout",
     "output_type": "stream",
     "text": [
      "Eventos eliminados: 797\n",
      "Porcentaje de eventos eliminados: 0.33\n",
      "Usuarios eliminados: 9\n",
      "Porcentaje de usuarios eliminados: 0.12\n"
     ]
    }
   ],
   "source": [
    "# ¿Perdiste muchos eventos y usuarios al excluir los datos más antiguos?\n",
    "# Filtramos los eventos por el periodo del 31 de julio al 7 de agosto\n",
    "filtered_logs = df_logs[df_logs['event_date'] >= date(2019, 7, 31)]\n",
    "\n",
    "# Realizamos conteos con los datos filtrados\n",
    "filtered_event_count = len(filtered_logs)\n",
    "filtered_user_count = filtered_logs['device_id'].nunique()\n",
    "\n",
    "# Calculamos las perdidas de datos\n",
    "events_lost = total_events - filtered_event_count\n",
    "users_lost = unique_users - filtered_user_count\n",
    "percent_events_lost = round(events_lost/total_events * 100, 2)\n",
    "percent_users_lost = round(users_lost/unique_users * 100, 2)\n",
    "\n",
    "print('Eventos eliminados:', events_lost)\n",
    "print('Porcentaje de eventos eliminados:', percent_events_lost)\n",
    "print('Usuarios eliminados:', users_lost)\n",
    "print('Porcentaje de usuarios eliminados:', percent_users_lost)"
   ]
  },
  {
   "cell_type": "markdown",
   "metadata": {},
   "source": [
    "Podemos observar que no se perdieron muchos datos al filtrar las fechas para el análisis. Tan sólo un .33% de los eventos fueron eliminados, sólo .12% de los usuarios fueron eliminados por lo que podemos concluir que la limpieza es segura y no distorsiona el análisis general."
   ]
  },
  {
   "cell_type": "code",
   "execution_count": 27,
   "metadata": {},
   "outputs": [
    {
     "name": "stdout",
     "output_type": "stream",
     "text": [
      "   exp_id  usuarios_únicos\n",
      "0     246             2485\n",
      "1     247             2517\n",
      "2     248             2540\n"
     ]
    }
   ],
   "source": [
    "# Asegúrate de tener usuarios de los tres grupos experimentales.\n",
    "users_by_groups = filtered_logs.groupby('exp_id')['device_id'].nunique().reset_index()\n",
    "users_by_groups.columns = ['exp_id', 'usuarios_únicos']\n",
    "print(users_by_groups)"
   ]
  },
  {
   "cell_type": "markdown",
   "metadata": {},
   "source": [
    "Con esto podemos concluir que nos aseguramos tenemos usuarios de los 3 grupos experimentales. Cabe mencionar también que la distribución es bantante equilibrada, lo cuál es ideal para el análisis test A/A/B."
   ]
  },
  {
   "cell_type": "markdown",
   "metadata": {},
   "source": [
    "<div class=\"alert alert-block alert-success\">  \n",
    "<b>Comentario del revisor</b> <a class=\"tocSkip\"></a><br>  \n",
    "<b>Éxito</b> - Muy clara y fundamentada tu validación de los datos. Justificaste con precisión el periodo de análisis y cuantificaste correctamente el impacto del filtrado. La verificación del equilibrio entre grupos fue un excelente paso adicional.  \n",
    "</div>\n"
   ]
  },
  {
   "cell_type": "markdown",
   "metadata": {},
   "source": [
    "### Paso 4. Estudiar el embudo de eventos"
   ]
  },
  {
   "cell_type": "code",
   "execution_count": 28,
   "metadata": {},
   "outputs": [
    {
     "name": "stdout",
     "output_type": "stream",
     "text": [
      "                event_name  frequency\n",
      "0         MainScreenAppear     118681\n",
      "1       OffersScreenAppear      46724\n",
      "2         CartScreenAppear      42623\n",
      "3  PaymentScreenSuccessful      34253\n",
      "4                 Tutorial       1048\n"
     ]
    }
   ],
   "source": [
    "# Observa qué eventos hay en los registros y su frecuencia de suceso. Ordénalos por frecuencia.\n",
    "event_frequency = filtered_logs['event_name'].value_counts().reset_index()\n",
    "event_frequency.columns = ['event_name', 'frequency']\n",
    "print(event_frequency)"
   ]
  },
  {
   "cell_type": "code",
   "execution_count": 29,
   "metadata": {},
   "outputs": [
    {
     "name": "stdout",
     "output_type": "stream",
     "text": [
      "                event_name  usuarios_únicos\n",
      "1         MainScreenAppear             7429\n",
      "2       OffersScreenAppear             4606\n",
      "0         CartScreenAppear             3742\n",
      "3  PaymentScreenSuccessful             3542\n",
      "4                 Tutorial              845\n"
     ]
    }
   ],
   "source": [
    "# Encuentra la cantidad de usuarios que realizaron cada una de estas acciones. \n",
    "# Ordena los eventos por el número de usuarios.\n",
    "users_per_event = filtered_logs.groupby('event_name')['device_id'].nunique().reset_index()\n",
    "users_per_event.columns = ['event_name', 'usuarios_únicos']\n",
    "users_per_event = users_per_event.sort_values(by='usuarios_únicos', ascending=False)\n",
    "print(users_per_event)"
   ]
  },
  {
   "cell_type": "code",
   "execution_count": 47,
   "metadata": {},
   "outputs": [
    {
     "name": "stdout",
     "output_type": "stream",
     "text": [
      "                event_name  usuarios_únicos  proporción\n",
      "1         MainScreenAppear             7429        0.99\n",
      "2       OffersScreenAppear             4606        0.61\n",
      "0         CartScreenAppear             3742        0.50\n",
      "3  PaymentScreenSuccessful             3542        0.47\n",
      "4                 Tutorial              845        0.11\n"
     ]
    }
   ],
   "source": [
    "# Calcula la proporción de usuarios que realizaron la acción al menos una vez.\n",
    "# Calculamos la cantidad de usuarios únicos en el dataset filtrado\n",
    "total_unique_users = filtered_logs['device_id'].nunique()\n",
    "\n",
    "# Calculamos la proporción de usuarios por eventos\n",
    "users_per_event['proporción'] = (users_per_event['usuarios_únicos']/total_unique_users).round(2)\n",
    "print(users_per_event)"
   ]
  },
  {
   "cell_type": "markdown",
   "metadata": {},
   "source": [
    "### ¿En qué orden crees que ocurrieron las acciones? ¿Todas son parte de una sola secuencia? No es necesario tenerlas en cuenta al calcular el embudo.\n",
    "\n",
    "Orden lógico de eventos:\n",
    "- 1.- MainScreenAppear (El usuario abre la app en la pantalla principal)\n",
    "- 2.- OffersScreenAppear (El usuario visualiza promociones o productos disponibles)\n",
    "- 3.- CartsScreenAppear (El usuario agrega y revisa productos agregados al carrito)\n",
    "- 4.- PaymentsScreenSuccessful (Se completa la orden ya que el pago se realizó con éxito)\n",
    "- 5.- Tutorial (Este paso posiblemente solo se muestra a usuario nuevos, por lo que consideramos no necesariamente forma parte de la secuencia)\n"
   ]
  },
  {
   "cell_type": "code",
   "execution_count": 31,
   "metadata": {},
   "outputs": [
    {
     "name": "stdout",
     "output_type": "stream",
     "text": [
      "Visitantes: 7429\n",
      "Visitaron ofertas: 4116\n",
      "Agregaron a su carrito:  1672\n",
      "Realizaron pago: 453\n"
     ]
    }
   ],
   "source": [
    "# Utiliza el embudo de eventos para encontrar la proporción de usuarios que pasan de una \n",
    "# etapa a la siguiente. Por ejemplo, para la secuencia de eventos A → B → C, \n",
    "# calcula la proporción de usuarios en la etapa B a la cantidad de usuarios en la etapa A y \n",
    "# la proporción de usuarios en la etapa C a la cantidad en la etapa B.\n",
    "\n",
    "# Primero utilizaremos el metodo pivot_table() para buscar la hora del primer suceso de cada evento\n",
    "\n",
    "users = filtered_logs.pivot_table(\n",
    "    index='device_id',\n",
    "    columns= 'event_name',\n",
    "    values='event_datetime',\n",
    "    aggfunc='min'\n",
    ")\n",
    "\n",
    "# Creamos variables para cada etapa del embudo comparando timestamps de cada paso\n",
    "step_1 = ~users['MainScreenAppear'].isna()\n",
    "step_2 = step_1 & (users['OffersScreenAppear'] > users['MainScreenAppear'])\n",
    "step_3 = step_2 & (users['CartScreenAppear'] > users['OffersScreenAppear'])\n",
    "step_4 = step_3 & (users['PaymentScreenSuccessful'] > users['CartScreenAppear'])\n",
    "\n",
    "# Obtenemos el número de filas por cada paso\n",
    "n_mainscreenappear = users[step_1].shape[0] \n",
    "n_offersscreenappear = users[step_2].shape[0]\n",
    "n_cartscreenappear = users[step_3].shape[0]\n",
    "n_paymentscreensuccessful = users[step_4].shape[0]\n",
    "\n",
    "print('Visitantes:', n_mainscreenappear)\n",
    "print('Visitaron ofertas:', n_offersscreenappear)\n",
    "print('Agregaron a su carrito: ', n_cartscreenappear)\n",
    "print('Realizaron pago:', n_paymentscreensuccessful)"
   ]
  },
  {
   "cell_type": "code",
   "execution_count": 32,
   "metadata": {},
   "outputs": [
    {
     "name": "stdout",
     "output_type": "stream",
     "text": [
      "3313 usuarios perdidos en segunda etapa\n",
      "2444 usuarios perdidos en tercera etapa\n",
      "1219 usuarios perdidos en cuarta etapa\n"
     ]
    }
   ],
   "source": [
    "# ¿En qué etapa pierdes más usuarios?\n",
    "MainScreen_Offers = n_mainscreenappear - n_offersscreenappear\n",
    "Offers_Cart = n_offersscreenappear - n_cartscreenappear\n",
    "Cart_Payment = n_cartscreenappear - n_paymentscreensuccessful\n",
    "\n",
    "print(MainScreen_Offers, 'usuarios perdidos en segunda etapa')\n",
    "print(Offers_Cart, 'usuarios perdidos en tercera etapa')\n",
    "print(Cart_Payment, 'usuarios perdidos en cuarta etapa')"
   ]
  },
  {
   "cell_type": "markdown",
   "metadata": {},
   "source": [
    "La mayor pérdida de usuarios ocurre entre la pantalla principal (Paso 1) y la pantalla para ver las ofertas (Paso 2) con 3313 usuarios."
   ]
  },
  {
   "cell_type": "code",
   "execution_count": 49,
   "metadata": {},
   "outputs": [
    {
     "name": "stdout",
     "output_type": "stream",
     "text": [
      "Usuarios que completaron el viaje: 6.1 %\n"
     ]
    }
   ],
   "source": [
    "# ¿Qué porcentaje de usuarios hace todo el viaje desde su primer evento hasta el pago?\n",
    "usuarios_finales = (n_paymentscreensuccessful/n_mainscreenappear) * 100\n",
    "usuarios_finales = round(usuarios_finales, 2)\n",
    "print('Usuarios que completaron el viaje:', usuarios_finales, '%')"
   ]
  },
  {
   "cell_type": "markdown",
   "metadata": {},
   "source": [
    "<div class=\"alert alert-block alert-success\">  \n",
    "<b>Comentario del revisor</b> <a class=\"tocSkip\"></a><br>  \n",
    "<b>Éxito</b> - Excelente análisis del embudo de conversión. El orden lógico de eventos está bien justificado, y los cálculos paso a paso permiten entender claramente dónde se produce la mayor pérdida de usuarios. El enfoque secuencial con timestamps está muy bien aplicado.  \n",
    "</div>\n",
    "\n"
   ]
  },
  {
   "cell_type": "markdown",
   "metadata": {},
   "source": [
    "### Paso 5. Estudiar los resultados del experimento"
   ]
  },
  {
   "cell_type": "code",
   "execution_count": 34,
   "metadata": {},
   "outputs": [
    {
     "name": "stdout",
     "output_type": "stream",
     "text": [
      "   exp_id  usuarios_únicos\n",
      "0     246             2485\n",
      "1     247             2517\n",
      "2     248             2540\n"
     ]
    }
   ],
   "source": [
    "# 1. ¿Cuántos usuarios hay en cada grupo?\n",
    "# Imprimos la variable user_by_groups que tenemos arriba para mostrar la cantidad de usuarios por grupo\n",
    "print(users_by_groups)"
   ]
  },
  {
   "cell_type": "code",
   "execution_count": 35,
   "metadata": {},
   "outputs": [
    {
     "name": "stdout",
     "output_type": "stream",
     "text": [
      "Usuarios que realizaron pagos del grupo 246: 1200\n",
      "Usuarios que realizaron pagos del grupo 247: 1159\n"
     ]
    }
   ],
   "source": [
    "# 2. Tenemos dos grupos de control en el test A/A, donde comprobamos nuestros mecanismos y cálculos. \n",
    "# Observa si hay una diferencia estadísticamente significativa entre las muestras 246 y 247.\n",
    "\n",
    "# Para determinar la diferencia estadística vamos a calcular la proporción de éxito de ambos grupos\n",
    "# Filtramos los usuarios por cada grupo\n",
    "grupo_246 = filtered_logs[filtered_logs['exp_id'] == 246]\n",
    "grupo_247 = filtered_logs[filtered_logs['exp_id'] == 247]\n",
    "\n",
    "# Calculamos la cantidad de usuarios que realizaron pagos por cada grupo, la cantidad de usuarios únicos por grupo ya los tenemos por ejercicio anterior\n",
    "pagos_246 = grupo_246[grupo_246['event_name'] == 'PaymentScreenSuccessful']['device_id'].nunique()\n",
    "pagos_247 = grupo_247[grupo_247['event_name'] == 'PaymentScreenSuccessful']['device_id'].nunique()\n",
    "\n",
    "print('Usuarios que realizaron pagos del grupo 246:', pagos_246)\n",
    "print('Usuarios que realizaron pagos del grupo 247:', pagos_247)"
   ]
  },
  {
   "cell_type": "code",
   "execution_count": 36,
   "metadata": {},
   "outputs": [
    {
     "name": "stdout",
     "output_type": "stream",
     "text": [
      "p_value:  0.11210845100173072\n",
      "No se pudo rechazar la hipótesis nula: no hay razón para pensar que las proporciones son diferentes\n"
     ]
    }
   ],
   "source": [
    "alpha = .05 # Nivel de significancia\n",
    "\n",
    "successes = np.array([1200, 1159])\n",
    "trials = np.array([2485, 2517])\n",
    "\n",
    "# proporción de éxito en el grupo 246\n",
    "p1 = successes[0]/trials[0]\n",
    "\n",
    "# proporción de éxito en el grupo 247\n",
    "p2 = successes[1]/trials[1]\n",
    "\n",
    "# proporción de éxito en el dataset unido\n",
    "p_combined = (successes[0] + successes[1]) / (trials[0] + trials[1])\n",
    "\n",
    "# diferencia entre las proporciones de los datasets\n",
    "difference = p1 - p2\n",
    "\n",
    "# Calculamos la estadística en desviaciones estándar de la distribución normal estándar\n",
    "z_value = difference / mth.sqrt(p_combined * (1 - p_combined) * (1/trials[0] + 1/trials[1]))\n",
    "\n",
    "# Establecemos la distribución normal estándar (media 0, desviación estándar 1)\n",
    "disrt = st.norm(0,1)\n",
    "\n",
    "# Dado que la distribución es normal, buscamos el valor absoluto estadístico utilizando cdf() y abs()\n",
    "# Multiplicamos el valor p por 2 para tener en cuenta ambos colas de la distribución normal\n",
    "p_value = (1 - disrt.cdf(abs(z_value))) * 2\n",
    "\n",
    "print('p_value: ', p_value)\n",
    "\n",
    "if (p_value < alpha):\n",
    "    print('Rechazar la hipótesis nula: hay una diferencia significativa entre las proporciones')\n",
    "else:\n",
    "    print('No se pudo rechazar la hipótesis nula: no hay razón para pensar que las proporciones son diferentes')"
   ]
  },
  {
   "cell_type": "code",
   "execution_count": 37,
   "metadata": {},
   "outputs": [
    {
     "name": "stdout",
     "output_type": "stream",
     "text": [
      "                event_name  usuarios_únicos_246  usuarios_únicos_247\n",
      "0         MainScreenAppear                 2452                 2479\n",
      "1       OffersScreenAppear                 1544                 1526\n",
      "2         CartScreenAppear                 1267                 1239\n",
      "3  PaymentScreenSuccessful                 1200                 1159\n",
      "4                 Tutorial                  278                  285\n",
      "Podemos observar que el evento más popular para ambos grupos es MainScreenAppear\n"
     ]
    }
   ],
   "source": [
    "# 3. Selecciona el evento más popular. En cada uno de los grupos de control, encuentra la cantidad de usuarios \n",
    "# que realizaron esta acción. Encuentra su proporción. Comprueba si la diferencia entre los grupos es \n",
    "# estadísticamente significativa. Repite el procedimiento para todos los demás eventos\n",
    "# (ahorrarás tiempo si creas una función especial para esta prueba). \n",
    "# ¿Puedes confirmar que los grupos se dividieron correctamente?\n",
    "\n",
    "# Buscamos los eventos mas populares en los grupos de control 246 y 247\n",
    "events_246 = grupo_246.groupby('event_name')['device_id'].nunique().reset_index()\n",
    "events_246.columns = ['event_name', 'usuarios_únicos']\n",
    "events_246 = events_246.sort_values(by='usuarios_únicos', ascending=False)\n",
    "\n",
    "events_247 = grupo_247.groupby('event_name')['device_id'].nunique().reset_index()\n",
    "events_247.columns = ['event_name', 'usuarios_únicos']\n",
    "events_247 = events_247.sort_values(by='usuarios_únicos', ascending=False)\n",
    "merged_events = events_246.merge(events_247, on='event_name', suffixes=('_246', '_247'))\n",
    "\n",
    "print(merged_events)\n",
    "print('Podemos observar que el evento más popular para ambos grupos es MainScreenAppear')"
   ]
  },
  {
   "cell_type": "code",
   "execution_count": 38,
   "metadata": {},
   "outputs": [
    {
     "name": "stdout",
     "output_type": "stream",
     "text": [
      "                    Evento  Proporción 246  Proporción 247  p_value  \\\n",
      "0         MainScreenAppear           0.987           0.985    0.587   \n",
      "1       OffersScreenAppear           0.621           0.606    0.274   \n",
      "2                 Tutorial           0.112           0.113    0.879   \n",
      "3  PaymentScreenSuccessful           0.483           0.460    0.112   \n",
      "4         CartScreenAppear           0.510           0.492    0.213   \n",
      "\n",
      "  Diferencia significativa ?  \n",
      "0                         No  \n",
      "1                         No  \n",
      "2                         No  \n",
      "3                         No  \n",
      "4                         No  \n"
     ]
    }
   ],
   "source": [
    "# Definimos una función para verificar la diferencia significativa entre los 2 grupos\n",
    "def comparar_eventos(evento, grupo1, grupo2, nombre_evento):\n",
    "    exito_1 = grupo1[grupo1['event_name'] == evento]['device_id'].nunique() # contamos usuarios de un evento en especifico del grupo 1\n",
    "    exito_2 = grupo2[grupo2['event_name'] == evento]['device_id'].nunique() # contamos usuarios de un evento en especifico del grupo 2\n",
    "    total_1 = grupo1['device_id'].nunique() # contamos el total de usuario del grupo 1\n",
    "    total_2 = grupo2['device_id'].nunique() # contamos el total de usuario del grupo 2\n",
    "    p1 = exito_1/total_1 # calculamos proporciones por grupo\n",
    "    p2 = exito_2/total_2 # calculamos proporciones por grupo\n",
    "    p_combined = (exito_1 + exito_2)/(total_1 + total_2) # cálculo proporción combinada\n",
    "    difference = p1 - p2\n",
    "    z_value = difference / mth.sqrt(p_combined * (1 - p_combined) * (1/total_1 + 1/total_2))\n",
    "    disrt = st.norm(0,1)\n",
    "    p_value = (1 - disrt.cdf(abs(z_value))) * 2 # Calculamos el valor p\n",
    "    return {\n",
    "        'Evento': nombre_evento,\n",
    "        'Usuarios grupo 246': total_1,\n",
    "        'Usuarios grupo 247': total_2,\n",
    "        'Realizaron evento 246': exito_1,\n",
    "        'Realizaron evento 247': exito_2,\n",
    "        'Proporción 246': round(p1, 3),\n",
    "        'Proporción 247': round(p2, 3),\n",
    "        'p_value': round(p_value, 3),\n",
    "        'Diferencia significativa ?': 'Si' if p_value < 0.05 else 'No'\n",
    "    }\n",
    "\n",
    "eventos_unicos = filtered_logs['event_name'].unique()\n",
    "\n",
    "# Usamos la función para calcular las proporciones y los agregamos a una nueva lista\n",
    "resultados = []\n",
    "\n",
    "# Utilizamos un for para que la función se realice por todos los eventos\n",
    "for evento in eventos_unicos:\n",
    "    resultado = comparar_eventos(evento, grupo_246, grupo_247, evento) # Utilizamos la función\n",
    "    resultados.append(resultado) # Lo agregamos a lista resultados\n",
    "\n",
    "# Convertimos la información a un dataframe para mostrar\n",
    "df_resultados = pd.DataFrame(resultados)\n",
    "print(df_resultados[['Evento', 'Proporción 246', 'Proporción 247', 'p_value', 'Diferencia significativa ?']])"
   ]
  },
  {
   "cell_type": "markdown",
   "metadata": {},
   "source": [
    "Podemos observar que para todos los eventos no existe una diferencia estadísticamente significativa de usuarios, esto nos dice que la división de usuarios entre los grupos es correcta."
   ]
  },
  {
   "cell_type": "code",
   "execution_count": 39,
   "metadata": {},
   "outputs": [
    {
     "name": "stdout",
     "output_type": "stream",
     "text": [
      "                    Evento  Proporción 248  Proporción 246  p_value  \\\n",
      "0         MainScreenAppear           0.983           0.987    0.341   \n",
      "1       OffersScreenAppear           0.605           0.621    0.227   \n",
      "2                 Tutorial           0.111           0.112    0.924   \n",
      "3  PaymentScreenSuccessful           0.466           0.483    0.224   \n",
      "4         CartScreenAppear           0.487           0.510    0.099   \n",
      "\n",
      "  Diferencia significativa ?  \n",
      "0                         No  \n",
      "1                         No  \n",
      "2                         No  \n",
      "3                         No  \n",
      "4                         No  \n",
      "No existe diferencia significativa entre el grupo de control 246 y el grupo 248\n"
     ]
    }
   ],
   "source": [
    "# 4. Haz lo mismo para el grupo con fuentes alteradas. Compara los resultados con los de cada uno de \n",
    "# los grupos de control para cada evento de forma aislada. Compara los resultados con los resultados \n",
    "# combinados de los grupos de control. ¿Qué conclusiones puedes sacar del experimento?\n",
    "\n",
    "# Creamos el filtrado por el grupo 248 y por los resultados combinados de los grupos de control\n",
    "grupo_248 = filtered_logs[filtered_logs['exp_id'] == 248]\n",
    "grupo_control_combinado = pd.concat([grupo_246, grupo_247])\n",
    "\n",
    "# Utilizamos la función creada previamente pero agregamos 2 parámetros mas\n",
    "def comparar_eventos(evento, grupo1, grupo2, nombre_evento, etiqueta1, etiqueta2):\n",
    "    exito_1 = grupo1[grupo1['event_name'] == evento]['device_id'].nunique() # contamos usuarios de un evento en especifico del grupo 1\n",
    "    exito_2 = grupo2[grupo2['event_name'] == evento]['device_id'].nunique() # contamos usuarios de un evento en especifico del grupo 2\n",
    "    total_1 = grupo1['device_id'].nunique() # contamos el total de usuario del grupo 1\n",
    "    total_2 = grupo2['device_id'].nunique() # contamos el total de usuario del grupo 2\n",
    "    p1 = exito_1/total_1 # calculamos proporciones por grupo\n",
    "    p2 = exito_2/total_2 # calculamos proporciones por grupo\n",
    "    p_combined = (exito_1 + exito_2)/(total_1 + total_2) \n",
    "    difference = p1 - p2\n",
    "    z_value = difference / mth.sqrt(p_combined * (1 - p_combined) * (1/total_1 + 1/total_2))\n",
    "    disrt = st.norm(0,1)\n",
    "    p_value = (1 - disrt.cdf(abs(z_value))) * 2\n",
    "    return {\n",
    "        'Evento': nombre_evento,\n",
    "        f'Proporción {etiqueta1}': round(p1, 3),\n",
    "        f'Proporción {etiqueta2}': round(p2, 3),\n",
    "        'p_value': round(p_value, 3),\n",
    "        'Diferencia significativa ?': 'Si' if p_value < 0.05 else 'No'\n",
    "    }\n",
    "    \n",
    "# Hacemos las comparaciones\n",
    "resultados_vs_246 = [comparar_eventos(evento, grupo_248, grupo_246, evento, '248', '246') for evento in eventos_unicos]\n",
    "resultados_vs_247 = [comparar_eventos(evento, grupo_248, grupo_247, evento, '248', '247') for evento in eventos_unicos]\n",
    "resultados_vs_comb = [comparar_eventos(evento, grupo_248, grupo_control_combinado, evento, '248', 'grupo combinado') for evento in eventos_unicos]\n",
    "\n",
    "df_resultados_246 = pd.DataFrame(resultados_vs_246)\n",
    "df_resultados_247 = pd.DataFrame(resultados_vs_247)\n",
    "df_resultados_comb = pd.DataFrame(resultados_vs_comb)\n",
    "\n",
    "print(df_resultados_246)\n",
    "print('No existe diferencia significativa entre el grupo de control 246 y el grupo 248')"
   ]
  },
  {
   "cell_type": "code",
   "execution_count": 40,
   "metadata": {},
   "outputs": [
    {
     "name": "stdout",
     "output_type": "stream",
     "text": [
      "                    Evento  Proporción 248  Proporción 247  p_value  \\\n",
      "0         MainScreenAppear           0.983           0.985    0.682   \n",
      "1       OffersScreenAppear           0.605           0.606    0.910   \n",
      "2                 Tutorial           0.111           0.113    0.804   \n",
      "3  PaymentScreenSuccessful           0.466           0.460    0.707   \n",
      "4         CartScreenAppear           0.487           0.492    0.688   \n",
      "\n",
      "  Diferencia significativa ?  \n",
      "0                         No  \n",
      "1                         No  \n",
      "2                         No  \n",
      "3                         No  \n",
      "4                         No  \n",
      "No existe diferencia significativa entre el grupo de control 247 y el grupo 248\n"
     ]
    }
   ],
   "source": [
    "print(df_resultados_247)\n",
    "print('No existe diferencia significativa entre el grupo de control 247 y el grupo 248')"
   ]
  },
  {
   "cell_type": "code",
   "execution_count": 41,
   "metadata": {},
   "outputs": [
    {
     "name": "stdout",
     "output_type": "stream",
     "text": [
      "                    Evento  Proporción 248  Proporción grupo combinado  \\\n",
      "0         MainScreenAppear           0.983                       0.986   \n",
      "1       OffersScreenAppear           0.605                       0.614   \n",
      "2                 Tutorial           0.111                       0.113   \n",
      "3  PaymentScreenSuccessful           0.466                       0.472   \n",
      "4         CartScreenAppear           0.487                       0.501   \n",
      "\n",
      "   p_value Diferencia significativa ?  \n",
      "0    0.429                         No  \n",
      "1    0.447                         No  \n",
      "2    0.842                         No  \n",
      "3    0.630                         No  \n",
      "4    0.238                         No  \n",
      "No existe diferencia significativa entre el grupo de control combinado y el grupo 248\n"
     ]
    }
   ],
   "source": [
    "print(df_resultados_comb)\n",
    "print('No existe diferencia significativa entre el grupo de control combinado y el grupo 248')"
   ]
  },
  {
   "cell_type": "code",
   "execution_count": 42,
   "metadata": {},
   "outputs": [
    {
     "name": "stdout",
     "output_type": "stream",
     "text": [
      "0.0033\n"
     ]
    }
   ],
   "source": [
    "# 5. ¿Qué nivel de significancia has establecido para probar las hipótesis estadísticas mencionadas anteriormente? \n",
    "# Calcula cuántas pruebas de hipótesis estadísticas has realizado. Con un nivel de significancia \n",
    "# estadística de 0.1, uno de cada 10 resultados podría ser falso. ¿Cuál debería ser el nivel de significancia? \n",
    "# Si deseas cambiarlo, vuelve a ejecutar los pasos anteriores y comprueba tus conclusiones.\n",
    "\n",
    "# Utilizaremos el método de Bonferroni para calcular el nivel de significancia\n",
    "# Consideramos un total de 15 pruebas ya que comparamos 5 eventos por 3 grupo (246, 247 y grupo combinado)\n",
    "n_pruebas = len(df_resultados_246) + len(df_resultados_247) + len(df_resultados_comb)\n",
    "alpha_bonferroni = round(0.05 / n_pruebas, 4)\n",
    "print(alpha_bonferroni)\n"
   ]
  },
  {
   "cell_type": "code",
   "execution_count": 43,
   "metadata": {},
   "outputs": [
    {
     "name": "stdout",
     "output_type": "stream",
     "text": [
      "                    Evento  Proporción 248  Proporción 246  p_value  \\\n",
      "0         MainScreenAppear           0.983           0.987    0.341   \n",
      "1       OffersScreenAppear           0.605           0.621    0.227   \n",
      "2                 Tutorial           0.111           0.112    0.924   \n",
      "3  PaymentScreenSuccessful           0.466           0.483    0.224   \n",
      "4         CartScreenAppear           0.487           0.510    0.099   \n",
      "\n",
      "  Diferencia significativa ?  \n",
      "0                         No  \n",
      "1                         No  \n",
      "2                         No  \n",
      "3                         No  \n",
      "4                         No  \n",
      "No existe diferencia significativa entre el grupo de control 246 y el grupo 248 con alpha bonferroni\n"
     ]
    }
   ],
   "source": [
    "# Modificamos la función y volvemos a realizar comparaciones\n",
    "def comparar_eventos_bonferroni(evento, grupo1, grupo2, nombre_evento, etiqueta1, etiqueta2):\n",
    "    exito_1 = grupo1[grupo1['event_name'] == evento]['device_id'].nunique() # contamos usuarios de un evento en especifico del grupo 1\n",
    "    exito_2 = grupo2[grupo2['event_name'] == evento]['device_id'].nunique() # contamos usuarios de un evento en especifico del grupo 2\n",
    "    total_1 = grupo1['device_id'].nunique() # contamos el total de usuario del grupo 1\n",
    "    total_2 = grupo2['device_id'].nunique() # contamos el total de usuario del grupo 2\n",
    "    p1 = exito_1/total_1 # calculamos proporciones por grupo\n",
    "    p2 = exito_2/total_2 # calculamos proporciones por grupo\n",
    "    p_combined = (exito_1 + exito_2)/(total_1 + total_2) \n",
    "    difference = p1 - p2\n",
    "    z_value = difference / mth.sqrt(p_combined * (1 - p_combined) * (1/total_1 + 1/total_2))\n",
    "    disrt = st.norm(0,1)\n",
    "    p_value = (1 - disrt.cdf(abs(z_value))) * 2\n",
    "    return {\n",
    "        'Evento': nombre_evento,\n",
    "        f'Proporción {etiqueta1}': round(p1, 3),\n",
    "        f'Proporción {etiqueta2}': round(p2, 3),\n",
    "        'p_value': round(p_value, 3),\n",
    "        'Diferencia significativa ?': 'Si' if p_value < 0.0033 else 'No' # Actualizamos el valor alpha\n",
    "    }\n",
    "\n",
    "# Hacemos las comparaciones\n",
    "resultados_vs_246_bonferroni = [comparar_eventos_bonferroni(evento, grupo_248, grupo_246, evento, '248', '246') for evento in eventos_unicos]\n",
    "resultados_vs_247_bonferroni = [comparar_eventos_bonferroni(evento, grupo_248, grupo_247, evento, '248', '247') for evento in eventos_unicos]\n",
    "resultados_vs_comb_bonferroni = [comparar_eventos_bonferroni(evento, grupo_248, grupo_control_combinado, evento, '248', 'grupo combinado') for evento in eventos_unicos]\n",
    "\n",
    "df_resultados_246_bonferroni = pd.DataFrame(resultados_vs_246_bonferroni)\n",
    "df_resultados_247_bonferroni = pd.DataFrame(resultados_vs_247_bonferroni)\n",
    "df_resultados_comb_bonferroni = pd.DataFrame(resultados_vs_comb_bonferroni)\n",
    "\n",
    "print(df_resultados_246_bonferroni)\n",
    "print('No existe diferencia significativa entre el grupo de control 246 y el grupo 248 con alpha bonferroni')"
   ]
  },
  {
   "cell_type": "code",
   "execution_count": 44,
   "metadata": {},
   "outputs": [
    {
     "name": "stdout",
     "output_type": "stream",
     "text": [
      "                    Evento  Proporción 248  Proporción 247  p_value  \\\n",
      "0         MainScreenAppear           0.983           0.985    0.682   \n",
      "1       OffersScreenAppear           0.605           0.606    0.910   \n",
      "2                 Tutorial           0.111           0.113    0.804   \n",
      "3  PaymentScreenSuccessful           0.466           0.460    0.707   \n",
      "4         CartScreenAppear           0.487           0.492    0.688   \n",
      "\n",
      "  Diferencia significativa ?  \n",
      "0                         No  \n",
      "1                         No  \n",
      "2                         No  \n",
      "3                         No  \n",
      "4                         No  \n",
      "No existe diferencia significativa entre el grupo de control 247 y el grupo 248 con alpha bonferroni\n"
     ]
    }
   ],
   "source": [
    "print(df_resultados_247_bonferroni)\n",
    "print('No existe diferencia significativa entre el grupo de control 247 y el grupo 248 con alpha bonferroni')"
   ]
  },
  {
   "cell_type": "code",
   "execution_count": 45,
   "metadata": {},
   "outputs": [
    {
     "name": "stdout",
     "output_type": "stream",
     "text": [
      "                    Evento  Proporción 248  Proporción grupo combinado  \\\n",
      "0         MainScreenAppear           0.983                       0.986   \n",
      "1       OffersScreenAppear           0.605                       0.614   \n",
      "2                 Tutorial           0.111                       0.113   \n",
      "3  PaymentScreenSuccessful           0.466                       0.472   \n",
      "4         CartScreenAppear           0.487                       0.501   \n",
      "\n",
      "   p_value Diferencia significativa ?  \n",
      "0    0.429                         No  \n",
      "1    0.447                         No  \n",
      "2    0.842                         No  \n",
      "3    0.630                         No  \n",
      "4    0.238                         No  \n",
      "No existe diferencia significativa entre el grupo de control combinado y el grupo 248 con alpha bonferroni\n"
     ]
    }
   ],
   "source": [
    "print(df_resultados_comb)\n",
    "print('No existe diferencia significativa entre el grupo de control combinado y el grupo 248 con alpha bonferroni')"
   ]
  },
  {
   "cell_type": "markdown",
   "metadata": {},
   "source": [
    "# Interpretación final:\n",
    "\n",
    "Los tres grupos (control y experimento) se comportaron de forma estadísticamente similar para todos los eventos observados. Esto sugiere que el cambio de fuente en la app no afectó negativamente la experiencia del usuario."
   ]
  },
  {
   "cell_type": "markdown",
   "metadata": {},
   "source": [
    "<div class=\"alert alert-block alert-success\">  \n",
    "<b>Comentario del revisor</b> <a class=\"tocSkip\"></a><br>  \n",
    "<b>Éxito</b> - Excelente análisis experimental. Mostraste dominio al estructurar comparaciones entre grupos con rigurosidad estadística, incluyendo ajustes por múltiples pruebas. Tus conclusiones están bien sustentadas y reflejan una interpretación clara de los resultados.  \n",
    "</div>\n"
   ]
  },
  {
   "cell_type": "markdown",
   "metadata": {},
   "source": [
    "## Comentario general del revisor "
   ]
  },
  {
   "cell_type": "markdown",
   "metadata": {},
   "source": [
    "\n",
    "\n",
    "<div class=\"alert alert-block alert-success\">  \n",
    "<b>Comentario del revisor</b> <a class=\"tocSkip\"></a>  \n",
    "    \n",
    "¡Felicidades! Tu proyecto está <b>aprobado</b>. Has demostrado un excelente manejo del flujo completo de análisis: desde la carga y limpieza de los datos, hasta la validación de hipótesis estadísticas con rigurosidad. Tu trabajo refleja atención al detalle, criterio analítico y un uso muy apropiado de las herramientas estadísticas.  \n",
    "\n",
    "#### Puntos Positivos:\n",
    "\n",
    "* **Procesamiento de datos:** Transformación de fechas, renombrado de columnas y filtrado temporal bien ejecutados.\n",
    "* **Visualización y análisis gráfico:** Uso acertado de histogramas para detectar anomalías en la frecuencia de eventos.\n",
    "* **Ingeniería de características:** Creación lógica del embudo de eventos con base en secuencia temporal.\n",
    "* **Comparación de modelos:** Aplicación consistente de pruebas A/A/B con controles estadísticos, incluyendo la corrección de Bonferroni.\n",
    "\n",
    "#### Áreas para Seguir Investigando:\n",
    "\n",
    "* **Vectorización y optimización de código:** Explorar `groupby().agg()` con múltiples funciones o el uso de `apply` para reducir ciclos repetitivos.\n",
    "* **Técnicas avanzadas de feature engineering:** Incorporar variables temporales como el tiempo entre eventos o embudos personalizados por segmento.\n",
    "* **Evaluación de modelos más complejos:** Analizar conversiones usando modelos de regresión logística para aislar efectos de variables adicionales.\n",
    "* **Manejo de desbalanceo en los datos:** Aplicar técnicas de muestreo o ajuste por covariables si se trabaja con eventos poco frecuentes.\n",
    "\n",
    "¡Sigue explorando con curiosidad y profundidad, tu progreso es evidente y muy sólido!\n",
    "\n",
    "</div>\n"
   ]
  },
  {
   "cell_type": "code",
   "execution_count": null,
   "metadata": {},
   "outputs": [],
   "source": []
  }
 ],
 "metadata": {
  "kernelspec": {
   "display_name": "Python 3 (ipykernel)",
   "language": "python",
   "name": "python3"
  },
  "language_info": {
   "codemirror_mode": {
    "name": "ipython",
    "version": 3
   },
   "file_extension": ".py",
   "mimetype": "text/x-python",
   "name": "python",
   "nbconvert_exporter": "python",
   "pygments_lexer": "ipython3",
   "version": "3.9.23"
  }
 },
 "nbformat": 4,
 "nbformat_minor": 4
}
